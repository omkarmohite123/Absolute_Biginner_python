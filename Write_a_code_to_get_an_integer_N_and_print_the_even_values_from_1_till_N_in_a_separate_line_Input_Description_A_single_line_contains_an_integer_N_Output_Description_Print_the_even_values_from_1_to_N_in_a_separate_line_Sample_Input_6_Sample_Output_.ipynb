{
  "nbformat": 4,
  "nbformat_minor": 0,
  "metadata": {
    "colab": {
      "provenance": [],
      "authorship_tag": "ABX9TyMeL60saJz1UWZIBtMGTof3",
      "include_colab_link": true
    },
    "kernelspec": {
      "name": "python3",
      "display_name": "Python 3"
    },
    "language_info": {
      "name": "python"
    }
  },
  "cells": [
    {
      "cell_type": "markdown",
      "metadata": {
        "id": "view-in-github",
        "colab_type": "text"
      },
      "source": [
        "<a href=\"https://colab.research.google.com/github/omkarmohite123/Absolute_Biginner_python/blob/main/Write_a_code_to_get_an_integer_N_and_print_the_even_values_from_1_till_N_in_a_separate_line_Input_Description_A_single_line_contains_an_integer_N_Output_Description_Print_the_even_values_from_1_to_N_in_a_separate_line_Sample_Input_6_Sample_Output_.ipynb\" target=\"_parent\"><img src=\"https://colab.research.google.com/assets/colab-badge.svg\" alt=\"Open In Colab\"/></a>"
      ]
    },
    {
      "cell_type": "code",
      "source": [
        "N=int(input())\n",
        "for i in range(1,N+1):\n",
        "  if i%2==0:\n",
        "     print(i)\n",
        "    \n"
      ],
      "metadata": {
        "colab": {
          "base_uri": "https://localhost:8080/"
        },
        "id": "mpWKcObm8lUd",
        "outputId": "574427e2-f054-49b9-e6f1-75d94ed1e8c1"
      },
      "execution_count": 50,
      "outputs": [
        {
          "output_type": "stream",
          "name": "stdout",
          "text": [
            "6\n",
            "2\n",
            "4\n",
            "6\n"
          ]
        }
      ]
    }
  ]
}
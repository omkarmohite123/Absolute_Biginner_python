{
  "nbformat": 4,
  "nbformat_minor": 0,
  "metadata": {
    "colab": {
      "provenance": [],
      "authorship_tag": "ABX9TyOhpf9U0BRYTJIhtXeSNg/W",
      "include_colab_link": true
    },
    "kernelspec": {
      "name": "python3",
      "display_name": "Python 3"
    },
    "language_info": {
      "name": "python"
    }
  },
  "cells": [
    {
      "cell_type": "markdown",
      "metadata": {
        "id": "view-in-github",
        "colab_type": "text"
      },
      "source": [
        "<a href=\"https://colab.research.google.com/github/omkarmohite123/Absolute_Biginner_python/blob/main/Using_the_method_of_looping%2C_write_a_program_to_print_the_table_of_9_till_N_in_the_format_as_follows_(N_is_input_by_the_user)_9_18_27_Print_NULL_if_0_is_input_Input_Description_A_positive_integer_is_provided_as_an_input_Output_Description_Print_the.ipynb\" target=\"_parent\"><img src=\"https://colab.research.google.com/assets/colab-badge.svg\" alt=\"Open In Colab\"/></a>"
      ]
    },
    {
      "cell_type": "code",
      "source": [
        "N=int(input())\n",
        "arr=[]\n",
        "for i in range(1,N+1):\n",
        "    arr.append(i*9)\n",
        "print(*arr)\n",
        "\n"
      ],
      "metadata": {
        "colab": {
          "base_uri": "https://localhost:8080/"
        },
        "id": "Sm45pUkQ5se6",
        "outputId": "dc8c196e-b017-4e7a-c349-2676517c184d"
      },
      "execution_count": 40,
      "outputs": [
        {
          "output_type": "stream",
          "name": "stdout",
          "text": [
            "3\n",
            "9 18 27\n"
          ]
        }
      ]
    }
  ]
}
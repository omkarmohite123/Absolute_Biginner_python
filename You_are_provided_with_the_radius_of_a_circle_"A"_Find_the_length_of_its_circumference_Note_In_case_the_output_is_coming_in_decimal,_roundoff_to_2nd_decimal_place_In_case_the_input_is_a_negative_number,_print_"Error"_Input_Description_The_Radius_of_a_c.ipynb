{
  "nbformat": 4,
  "nbformat_minor": 0,
  "metadata": {
    "colab": {
      "provenance": [],
      "authorship_tag": "ABX9TyMzAVavJxn8xktQXylYkgBc",
      "include_colab_link": true
    },
    "kernelspec": {
      "name": "python3",
      "display_name": "Python 3"
    },
    "language_info": {
      "name": "python"
    }
  },
  "cells": [
    {
      "cell_type": "markdown",
      "metadata": {
        "id": "view-in-github",
        "colab_type": "text"
      },
      "source": [
        "<a href=\"https://colab.research.google.com/github/omkarmohite123/Absolute_Biginner_python/blob/main/You_are_provided_with_the_radius_of_a_circle_%22A%22_Find_the_length_of_its_circumference_Note_In_case_the_output_is_coming_in_decimal%2C_roundoff_to_2nd_decimal_place_In_case_the_input_is_a_negative_number%2C_print_%22Error%22_Input_Description_The_Radius_of_a_c.ipynb\" target=\"_parent\"><img src=\"https://colab.research.google.com/assets/colab-badge.svg\" alt=\"Open In Colab\"/></a>"
      ]
    },
    {
      "cell_type": "code",
      "source": [
        "a=float(int(input()))\n",
        "area=((1/4)*(3**(1/2))*(a**2))\n",
        "area_traingle=\"{0:.2f}\".format(area)\n",
        "print(area_traingle)"
      ],
      "metadata": {
        "colab": {
          "base_uri": "https://localhost:8080/"
        },
        "id": "l_C1rGtR4rrA",
        "outputId": "3afc4452-8506-4f81-f84d-261e43cd0406"
      },
      "execution_count": null,
      "outputs": [
        {
          "output_type": "stream",
          "name": "stdout",
          "text": [
            "20\n",
            "173.21\n"
          ]
        }
      ]
    },
    {
      "cell_type": "code",
      "source": [
        "from math import pi\n",
        "r=float(input())\n",
        "cir=(2*pi*r)\n",
        "format_cir='{:.2f}'.format(cir)\n",
        "if (cir>=0,cir==0):\n",
        "    print(format_cir)\n",
        "else:\n",
        "    print(\"Error\")\n"
      ],
      "metadata": {
        "colab": {
          "base_uri": "https://localhost:8080/"
        },
        "id": "giTisAIG5dwI",
        "outputId": "6f18571e-caef-41b6-d1c1-621c9f9d6903"
      },
      "execution_count": 39,
      "outputs": [
        {
          "output_type": "stream",
          "name": "stdout",
          "text": [
            "2\n",
            "12.57\n"
          ]
        }
      ]
    }
  ]
}
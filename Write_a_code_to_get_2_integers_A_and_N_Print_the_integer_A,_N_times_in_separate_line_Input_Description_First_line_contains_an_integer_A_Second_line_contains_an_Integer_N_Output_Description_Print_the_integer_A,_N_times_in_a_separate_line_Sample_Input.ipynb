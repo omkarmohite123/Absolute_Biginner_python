{
  "nbformat": 4,
  "nbformat_minor": 0,
  "metadata": {
    "colab": {
      "provenance": [],
      "authorship_tag": "ABX9TyOqFM+8V9PHAnbnnZnv6UEE",
      "include_colab_link": true
    },
    "kernelspec": {
      "name": "python3",
      "display_name": "Python 3"
    },
    "language_info": {
      "name": "python"
    }
  },
  "cells": [
    {
      "cell_type": "markdown",
      "metadata": {
        "id": "view-in-github",
        "colab_type": "text"
      },
      "source": [
        "<a href=\"https://colab.research.google.com/github/omkarmohite123/Absolute_Biginner_python/blob/main/Write_a_code_to_get_2_integers_A_and_N_Print_the_integer_A%2C_N_times_in_separate_line_Input_Description_First_line_contains_an_integer_A_Second_line_contains_an_Integer_N_Output_Description_Print_the_integer_A%2C_N_times_in_a_separate_line_Sample_Input.ipynb\" target=\"_parent\"><img src=\"https://colab.research.google.com/assets/colab-badge.svg\" alt=\"Open In Colab\"/></a>"
      ]
    },
    {
      "cell_type": "code",
      "source": [
        "A,N=map(int,input().split())\n",
        "for i in range(N):\n",
        "    print(A)"
      ],
      "metadata": {
        "colab": {
          "base_uri": "https://localhost:8080/"
        },
        "id": "ewlnYbKE8wqS",
        "outputId": "8b241ee8-82a4-436d-c403-d94abc6fcc43"
      },
      "execution_count": 51,
      "outputs": [
        {
          "output_type": "stream",
          "name": "stdout",
          "text": [
            "2 3\n",
            "2\n",
            "2\n",
            "2\n"
          ]
        }
      ]
    },
    {
      "cell_type": "code",
      "source": [],
      "metadata": {
        "id": "2liRTpUC80YG"
      },
      "execution_count": null,
      "outputs": []
    }
  ]
}
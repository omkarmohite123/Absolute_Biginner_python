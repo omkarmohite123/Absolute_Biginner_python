{
  "nbformat": 4,
  "nbformat_minor": 0,
  "metadata": {
    "colab": {
      "provenance": [],
      "authorship_tag": "ABX9TyMUs0iYYzJxz0jj1bmsDS8U",
      "include_colab_link": true
    },
    "kernelspec": {
      "name": "python3",
      "display_name": "Python 3"
    },
    "language_info": {
      "name": "python"
    }
  },
  "cells": [
    {
      "cell_type": "markdown",
      "metadata": {
        "id": "view-in-github",
        "colab_type": "text"
      },
      "source": [
        "<a href=\"https://colab.research.google.com/github/omkarmohite123/Absolute_Biginner_python/blob/main/Write_a_code_to_get_an_integer_N_and_print_the_digits_of_the_integer_Input_Description_A_single_line_contains_an_integer_N_Output_Description_Print_the_digits_of_the_integer_in_a_single_line_separated_by_space%2C_Sample_Input_348_Sample_Output_3_4_8.ipynb\" target=\"_parent\"><img src=\"https://colab.research.google.com/assets/colab-badge.svg\" alt=\"Open In Colab\"/></a>"
      ]
    },
    {
      "cell_type": "code",
      "source": [
        "a=input()\n",
        "arr=[]\n",
        "for i in a:\n",
        "    arr.append(i)\n",
        "print(*arr)"
      ],
      "metadata": {
        "colab": {
          "base_uri": "https://localhost:8080/"
        },
        "id": "4Gaf0Qc79vxD",
        "outputId": "eb570c4c-b05f-4cf2-c239-b27043b696a2"
      },
      "execution_count": 55,
      "outputs": [
        {
          "output_type": "stream",
          "name": "stdout",
          "text": [
            "348\n",
            "3 4 8\n"
          ]
        }
      ]
    }
  ]
}
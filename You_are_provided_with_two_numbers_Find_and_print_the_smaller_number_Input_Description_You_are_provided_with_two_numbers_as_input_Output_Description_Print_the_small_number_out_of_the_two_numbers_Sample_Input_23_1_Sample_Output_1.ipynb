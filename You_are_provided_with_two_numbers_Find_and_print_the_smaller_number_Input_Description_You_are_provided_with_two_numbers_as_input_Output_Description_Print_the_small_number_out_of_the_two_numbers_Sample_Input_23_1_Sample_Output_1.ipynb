{
  "nbformat": 4,
  "nbformat_minor": 0,
  "metadata": {
    "colab": {
      "provenance": [],
      "authorship_tag": "ABX9TyNHVLIJkHq43mLzKIzRIjMD",
      "include_colab_link": true
    },
    "kernelspec": {
      "name": "python3",
      "display_name": "Python 3"
    },
    "language_info": {
      "name": "python"
    }
  },
  "cells": [
    {
      "cell_type": "markdown",
      "metadata": {
        "id": "view-in-github",
        "colab_type": "text"
      },
      "source": [
        "<a href=\"https://colab.research.google.com/github/omkarmohite123/Absolute_Biginner_python/blob/main/You_are_provided_with_two_numbers_Find_and_print_the_smaller_number_Input_Description_You_are_provided_with_two_numbers_as_input_Output_Description_Print_the_small_number_out_of_the_two_numbers_Sample_Input_23_1_Sample_Output_1.ipynb\" target=\"_parent\"><img src=\"https://colab.research.google.com/assets/colab-badge.svg\" alt=\"Open In Colab\"/></a>"
      ]
    },
    {
      "cell_type": "code",
      "source": [
        "arr=list(map(int,input().split()))\n",
        "print(min(arr))"
      ],
      "metadata": {
        "colab": {
          "base_uri": "https://localhost:8080/"
        },
        "id": "3G3KRUP36dpa",
        "outputId": "b7d162d5-b5e5-4104-9887-3d02c0a5a1ab"
      },
      "execution_count": 42,
      "outputs": [
        {
          "output_type": "stream",
          "name": "stdout",
          "text": [
            "23 1\n",
            "1\n"
          ]
        }
      ]
    }
  ]
}
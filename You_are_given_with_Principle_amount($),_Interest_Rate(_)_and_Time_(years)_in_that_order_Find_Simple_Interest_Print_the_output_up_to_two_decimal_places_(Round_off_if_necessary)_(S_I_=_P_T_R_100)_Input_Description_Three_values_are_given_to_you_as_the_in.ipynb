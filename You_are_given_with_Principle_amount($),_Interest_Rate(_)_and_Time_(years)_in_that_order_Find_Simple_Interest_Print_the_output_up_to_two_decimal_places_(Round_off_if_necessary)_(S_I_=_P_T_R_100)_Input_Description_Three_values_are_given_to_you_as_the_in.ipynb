{
  "nbformat": 4,
  "nbformat_minor": 0,
  "metadata": {
    "colab": {
      "provenance": [],
      "authorship_tag": "ABX9TyOWssuITJ61MGCXd1GX6C50",
      "include_colab_link": true
    },
    "kernelspec": {
      "name": "python3",
      "display_name": "Python 3"
    },
    "language_info": {
      "name": "python"
    }
  },
  "cells": [
    {
      "cell_type": "markdown",
      "metadata": {
        "id": "view-in-github",
        "colab_type": "text"
      },
      "source": [
        "<a href=\"https://colab.research.google.com/github/omkarmohite123/Absolute_Biginner_python/blob/main/You_are_given_with_Principle_amount(%24)%2C_Interest_Rate(_)_and_Time_(years)_in_that_order_Find_Simple_Interest_Print_the_output_up_to_two_decimal_places_(Round_off_if_necessary)_(S_I_%3D_P_T_R_100)_Input_Description_Three_values_are_given_to_you_as_the_in.ipynb\" target=\"_parent\"><img src=\"https://colab.research.google.com/assets/colab-badge.svg\" alt=\"Open In Colab\"/></a>"
      ]
    },
    {
      "cell_type": "code",
      "source": [
        "data=input().split()\n",
        "P=float(data[0])\n",
        "T=float(data[1])\n",
        "R=float(data[2])\n",
        "SI=P*T*R/100\n",
        "print(\"{:.2f}\".format(SI))\n"
      ],
      "metadata": {
        "colab": {
          "base_uri": "https://localhost:8080/"
        },
        "id": "HgGnq4rz9N6a",
        "outputId": "1427861e-6c06-406a-fb13-70626e294981"
      },
      "execution_count": 53,
      "outputs": [
        {
          "output_type": "stream",
          "name": "stdout",
          "text": [
            "1000 2 5\n",
            "100.00\n"
          ]
        }
      ]
    }
  ]
}
{
  "nbformat": 4,
  "nbformat_minor": 0,
  "metadata": {
    "colab": {
      "provenance": [],
      "authorship_tag": "ABX9TyOipSKVC8AyK9YP4NpTVKKz",
      "include_colab_link": true
    },
    "kernelspec": {
      "name": "python3",
      "display_name": "Python 3"
    },
    "language_info": {
      "name": "python"
    }
  },
  "cells": [
    {
      "cell_type": "markdown",
      "metadata": {
        "id": "view-in-github",
        "colab_type": "text"
      },
      "source": [
        "<a href=\"https://colab.research.google.com/github/omkarmohite123/Absolute_Biginner_python/blob/main/Dsa1.ipynb\" target=\"_parent\"><img src=\"https://colab.research.google.com/assets/colab-badge.svg\" alt=\"Open In Colab\"/></a>"
      ]
    },
    {
      "cell_type": "code",
      "execution_count": null,
      "metadata": {
        "colab": {
          "base_uri": "https://localhost:8080/"
        },
        "id": "yltp4ayU2CNY",
        "outputId": "f92411ae-8f7f-4215-c4a0-13d578a84135"
      },
      "outputs": [
        {
          "output_type": "stream",
          "name": "stdout",
          "text": [
            "4 2\n",
            "5 -1 7 0\n",
            "2 8 0 7\n"
          ]
        }
      ],
      "source": [
        "arr1=list(map(int,input().split()))#3\n",
        "n=arr1[0]\n",
        "k=arr1[1]\n",
        "arr2=list(map(int,input().split()))\n",
        "maxx=max(arr2)\n",
        "for i in range(k):\n",
        "  arr3=[maxx-x for x in arr2]\n",
        "\n",
        "print(*arr3)"
      ]
    },
    {
      "cell_type": "code",
      "source": [
        "\n",
        "def spiralPrint(m,n,a): \n",
        "    k=0;l=0\n",
        "    ''' k - starting row index \n",
        "        m - ending row index \n",
        "        l - starting column index \n",
        "        n - ending column index \n",
        "        i - iterator '''\n",
        "    while(k<m and l<n):\n",
        "        # Print the first row from \n",
        "        # the remaining rows  \n",
        "        for i in range(l,n) : \n",
        "            print(a[k][i],end=\" \")\n",
        "        k += 1\n",
        "        # Print the last column from \n",
        "        # the remaining columns  \n",
        "        for i in range(k,m) : \n",
        "            print(a[i][n-1],end=\" \") \n",
        "        n -= 1\n",
        "        # Print the last row from \n",
        "        # the remaining rows  \n",
        "        if(k<m):     \n",
        "            for i in range(n-1,(l-1),-1) : \n",
        "                print(a[m-1][i], end = \" \") \n",
        "            m-=1\n",
        "        # Print the first column from \n",
        "        # the remaining columns  \n",
        "        if(l<n):\n",
        "            for i in range(m - 1, k - 1, -1) : \n",
        "                print(a[i][l],end=\" \")\n",
        "            l+=1\n",
        "  \n",
        "# Driver Code \n",
        "R=int(input(\"Enter the number of rows:\"))\n",
        "C=int(input(\"Enter the number of columns:\"))\n",
        "a=[]\n",
        "print(\"Enter the elements of the matrix:\")\n",
        "for i in range(R):\n",
        "    l=list(map(int,input().split(\" \")))\n",
        "    a.append(l)\n",
        "print(\"The elements are taken out from the matrix in the clockwise spiral direction.\")\n",
        "spiralPrint(R,C,a)"
      ],
      "metadata": {
        "id": "Fn6M7x3_fKdG"
      },
      "execution_count": null,
      "outputs": []
    },
    {
      "cell_type": "code",
      "source": [
        "def rev():#3\n",
        "  maxx=max(a)\n",
        "  return maxx\n",
        "\n",
        "n,k=list(map(int,input().split()))\n",
        "a=list(map(int,input().split()))\n",
        "for i in range(k):\n",
        "   a=[rev()-x for x in a]\n",
        "\n",
        "print(*a)\n"
      ],
      "metadata": {
        "colab": {
          "base_uri": "https://localhost:8080/"
        },
        "id": "czEUiexaIJPF",
        "outputId": "c30870c1-271e-409f-850e-0e344bb4f09c"
      },
      "execution_count": null,
      "outputs": [
        {
          "output_type": "stream",
          "name": "stdout",
          "text": [
            "4 2\n",
            "5 -1 7 0\n",
            "6 0 8 1\n"
          ]
        }
      ]
    },
    {
      "cell_type": "code",
      "source": [],
      "metadata": {
        "id": "oMbLrAw_Je7G"
      },
      "execution_count": null,
      "outputs": []
    },
    {
      "cell_type": "code",
      "source": [
        "def ren():\n",
        "  n,v1,v2=list(map(int,input().split()))\n",
        "  t1=(2**.5*n/v1)\n",
        "  t2=(2*n)/v2\n",
        "  if t1>t2:\n",
        "    return \"Walk\"\n",
        "  else:\n",
        "    return \"Cab\"\n",
        "\n",
        "n=int(input())#2\n",
        "k=[]\n",
        "for i in range(n):\n",
        "  k.append(ren())\n",
        "\n",
        "for i in k:\n",
        "  print(i)"
      ],
      "metadata": {
        "colab": {
          "base_uri": "https://localhost:8080/"
        },
        "id": "xBNQE1Tr27S9",
        "outputId": "f77dacce-02fb-4968-ba64-49e966d0d5b6"
      },
      "execution_count": null,
      "outputs": [
        {
          "output_type": "stream",
          "name": "stdout",
          "text": [
            "2\n",
            "5 10 15\n",
            "2 10 14\n",
            "Walk\n",
            "Cab\n"
          ]
        }
      ]
    },
    {
      "cell_type": "code",
      "source": [],
      "metadata": {
        "id": "lFGyhhyoJ3_a"
      },
      "execution_count": null,
      "outputs": []
    },
    {
      "cell_type": "code",
      "source": [
        "def printdata(arr, i, j, m, n):#1\n",
        "\n",
        "    if (i >= m or j >= n): \n",
        "        return\n",
        "    for p in range(i, n): \n",
        "        print(arr[i][p], end=\" \") \n",
        "    for p in range(i + 1, m): \n",
        "        print(arr[p][n - 1], end=\" \") \n",
        "    if ((m - 1) != i): \n",
        "        for p in range(n - 2, j - 1, -1): \n",
        "            print(arr[m - 1][p], end=\" \") \n",
        "    if ((n - 1) != j): \n",
        "        for p in range(m - 2, i, -1): \n",
        "            print(arr[p][j], end=\" \") \n",
        "    printdata(arr, i + 1, j + 1, m - 1, n - 1) \n",
        "\n",
        "r=int(input())\n",
        "c=r\n",
        "a=[list(map(int,input().split())) for i in range(r)]\n",
        "\n",
        "printdata(a, 0, 0, r, c)"
      ],
      "metadata": {
        "colab": {
          "base_uri": "https://localhost:8080/"
        },
        "id": "2t9ocU1S6Xw2",
        "outputId": "9c03536e-8566-4e92-9954-5386a9690aab"
      },
      "execution_count": null,
      "outputs": [
        {
          "name": "stdout",
          "output_type": "stream",
          "text": [
            "0\n"
          ]
        }
      ]
    }
  ]
}
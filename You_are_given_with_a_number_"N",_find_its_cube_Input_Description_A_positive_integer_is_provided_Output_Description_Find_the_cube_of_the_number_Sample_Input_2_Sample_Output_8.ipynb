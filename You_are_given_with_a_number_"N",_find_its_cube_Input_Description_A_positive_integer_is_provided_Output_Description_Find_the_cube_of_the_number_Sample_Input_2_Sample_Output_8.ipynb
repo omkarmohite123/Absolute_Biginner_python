{
  "nbformat": 4,
  "nbformat_minor": 0,
  "metadata": {
    "colab": {
      "provenance": [],
      "authorship_tag": "ABX9TyNu4hiy3YTp9dNBe9ClkYD7",
      "include_colab_link": true
    },
    "kernelspec": {
      "name": "python3",
      "display_name": "Python 3"
    },
    "language_info": {
      "name": "python"
    }
  },
  "cells": [
    {
      "cell_type": "markdown",
      "metadata": {
        "id": "view-in-github",
        "colab_type": "text"
      },
      "source": [
        "<a href=\"https://colab.research.google.com/github/omkarmohite123/Absolute_Biginner_python/blob/main/You_are_given_with_a_number_%22N%22%2C_find_its_cube_Input_Description_A_positive_integer_is_provided_Output_Description_Find_the_cube_of_the_number_Sample_Input_2_Sample_Output_8.ipynb\" target=\"_parent\"><img src=\"https://colab.research.google.com/assets/colab-badge.svg\" alt=\"Open In Colab\"/></a>"
      ]
    },
    {
      "cell_type": "code",
      "source": [
        "N=int(input())\n",
        "cube=N**3\n",
        "print(cube)"
      ],
      "metadata": {
        "colab": {
          "base_uri": "https://localhost:8080/"
        },
        "id": "w-nHcFXH-00-",
        "outputId": "55dec890-df03-4c9d-aa73-1bf18df40870"
      },
      "execution_count": 61,
      "outputs": [
        {
          "output_type": "stream",
          "name": "stdout",
          "text": [
            "2\n",
            "8\n"
          ]
        }
      ]
    }
  ]
}
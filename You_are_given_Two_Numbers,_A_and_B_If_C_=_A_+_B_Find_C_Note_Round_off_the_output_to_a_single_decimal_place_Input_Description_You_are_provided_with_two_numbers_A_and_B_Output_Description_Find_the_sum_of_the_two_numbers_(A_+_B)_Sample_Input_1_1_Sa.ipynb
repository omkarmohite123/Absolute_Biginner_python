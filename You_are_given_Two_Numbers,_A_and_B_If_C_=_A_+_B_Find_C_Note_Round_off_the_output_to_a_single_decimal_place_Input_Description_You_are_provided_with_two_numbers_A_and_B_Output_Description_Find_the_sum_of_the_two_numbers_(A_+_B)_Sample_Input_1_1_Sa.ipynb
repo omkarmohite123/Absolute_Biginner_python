{
  "nbformat": 4,
  "nbformat_minor": 0,
  "metadata": {
    "colab": {
      "provenance": [],
      "authorship_tag": "ABX9TyMsipUxGx+mkCuqnZ7HNPDA",
      "include_colab_link": true
    },
    "kernelspec": {
      "name": "python3",
      "display_name": "Python 3"
    },
    "language_info": {
      "name": "python"
    }
  },
  "cells": [
    {
      "cell_type": "markdown",
      "metadata": {
        "id": "view-in-github",
        "colab_type": "text"
      },
      "source": [
        "<a href=\"https://colab.research.google.com/github/omkarmohite123/Absolute_Biginner_python/blob/main/You_are_given_Two_Numbers%2C_A_and_B_If_C_%3D_A_%2B_B_Find_C_Note_Round_off_the_output_to_a_single_decimal_place_Input_Description_You_are_provided_with_two_numbers_A_and_B_Output_Description_Find_the_sum_of_the_two_numbers_(A_%2B_B)_Sample_Input_1_1_Sa.ipynb\" target=\"_parent\"><img src=\"https://colab.research.google.com/assets/colab-badge.svg\" alt=\"Open In Colab\"/></a>"
      ]
    },
    {
      "cell_type": "code",
      "source": [
        "A=int(input())\n",
        "B=int(input())\n",
        "c=A+B\n",
        "print(round(c,2))\n"
      ],
      "metadata": {
        "colab": {
          "base_uri": "https://localhost:8080/"
        },
        "id": "vSO3ENyI97Al",
        "outputId": "bec97b80-24ef-4170-e00c-53c2f1621f99"
      },
      "execution_count": 57,
      "outputs": [
        {
          "output_type": "stream",
          "name": "stdout",
          "text": [
            "1\n",
            "1\n",
            "2\n"
          ]
        }
      ]
    }
  ]
}
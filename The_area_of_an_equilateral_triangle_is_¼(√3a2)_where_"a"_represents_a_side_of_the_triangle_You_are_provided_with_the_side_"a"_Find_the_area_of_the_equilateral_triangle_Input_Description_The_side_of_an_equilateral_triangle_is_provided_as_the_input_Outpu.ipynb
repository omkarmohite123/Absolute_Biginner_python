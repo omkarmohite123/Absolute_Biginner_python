{
  "nbformat": 4,
  "nbformat_minor": 0,
  "metadata": {
    "colab": {
      "provenance": [],
      "authorship_tag": "ABX9TyOgQRpMJ7S9Cy9whnPS0OZY",
      "include_colab_link": true
    },
    "kernelspec": {
      "name": "python3",
      "display_name": "Python 3"
    },
    "language_info": {
      "name": "python"
    }
  },
  "cells": [
    {
      "cell_type": "markdown",
      "metadata": {
        "id": "view-in-github",
        "colab_type": "text"
      },
      "source": [
        "<a href=\"https://colab.research.google.com/github/omkarmohite123/Absolute_Biginner_python/blob/main/The_area_of_an_equilateral_triangle_is_%C2%BC(%E2%88%9A3a2)_where_%22a%22_represents_a_side_of_the_triangle_You_are_provided_with_the_side_%22a%22_Find_the_area_of_the_equilateral_triangle_Input_Description_The_side_of_an_equilateral_triangle_is_provided_as_the_input_Outpu.ipynb\" target=\"_parent\"><img src=\"https://colab.research.google.com/assets/colab-badge.svg\" alt=\"Open In Colab\"/></a>"
      ]
    },
    {
      "cell_type": "code",
      "source": [
        "a=float(int(input()))\n",
        "area=((1/4)*(3**(1/2))*(a**2))\n",
        "area_traingle=\"{0:.2f}\".format(area)\n",
        "print(area_traingle)"
      ],
      "metadata": {
        "colab": {
          "base_uri": "https://localhost:8080/"
        },
        "id": "l_C1rGtR4rrA",
        "outputId": "3afc4452-8506-4f81-f84d-261e43cd0406"
      },
      "execution_count": 37,
      "outputs": [
        {
          "output_type": "stream",
          "name": "stdout",
          "text": [
            "20\n",
            "173.21\n"
          ]
        }
      ]
    }
  ]
}
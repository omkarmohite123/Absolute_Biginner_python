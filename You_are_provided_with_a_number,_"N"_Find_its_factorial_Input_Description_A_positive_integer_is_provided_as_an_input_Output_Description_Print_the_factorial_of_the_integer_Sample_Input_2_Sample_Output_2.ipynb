{
  "nbformat": 4,
  "nbformat_minor": 0,
  "metadata": {
    "colab": {
      "provenance": [],
      "authorship_tag": "ABX9TyOJ4JQUWoK9sk5sKlIdDguM",
      "include_colab_link": true
    },
    "kernelspec": {
      "name": "python3",
      "display_name": "Python 3"
    },
    "language_info": {
      "name": "python"
    }
  },
  "cells": [
    {
      "cell_type": "markdown",
      "metadata": {
        "id": "view-in-github",
        "colab_type": "text"
      },
      "source": [
        "<a href=\"https://colab.research.google.com/github/omkarmohite123/Absolute_Biginner_python/blob/main/You_are_provided_with_a_number%2C_%22N%22_Find_its_factorial_Input_Description_A_positive_integer_is_provided_as_an_input_Output_Description_Print_the_factorial_of_the_integer_Sample_Input_2_Sample_Output_2.ipynb\" target=\"_parent\"><img src=\"https://colab.research.google.com/assets/colab-badge.svg\" alt=\"Open In Colab\"/></a>"
      ]
    },
    {
      "cell_type": "code",
      "source": [
        "a=float(int(input()))\n",
        "area=((1/4)*(3**(1/2))*(a**2))\n",
        "area_traingle=\"{0:.2f}\".format(area)\n",
        "print(area_traingle)"
      ],
      "metadata": {
        "colab": {
          "base_uri": "https://localhost:8080/"
        },
        "id": "l_C1rGtR4rrA",
        "outputId": "3afc4452-8506-4f81-f84d-261e43cd0406"
      },
      "execution_count": null,
      "outputs": [
        {
          "output_type": "stream",
          "name": "stdout",
          "text": [
            "20\n",
            "173.21\n"
          ]
        }
      ]
    },
    {
      "cell_type": "code",
      "source": [
        "N=int(input())\n",
        "fact = 1\n",
        "for i in range(1,N+1):\n",
        "  fact = fact * i\n",
        "print(fact)"
      ],
      "metadata": {
        "id": "p0LE1K_P4-9M",
        "outputId": "1c9eae08-34a4-4b0c-f064-3f7e69704538",
        "colab": {
          "base_uri": "https://localhost:8080/"
        }
      },
      "execution_count": 38,
      "outputs": [
        {
          "output_type": "stream",
          "name": "stdout",
          "text": [
            "2\n",
            "2\n"
          ]
        }
      ]
    }
  ]
}
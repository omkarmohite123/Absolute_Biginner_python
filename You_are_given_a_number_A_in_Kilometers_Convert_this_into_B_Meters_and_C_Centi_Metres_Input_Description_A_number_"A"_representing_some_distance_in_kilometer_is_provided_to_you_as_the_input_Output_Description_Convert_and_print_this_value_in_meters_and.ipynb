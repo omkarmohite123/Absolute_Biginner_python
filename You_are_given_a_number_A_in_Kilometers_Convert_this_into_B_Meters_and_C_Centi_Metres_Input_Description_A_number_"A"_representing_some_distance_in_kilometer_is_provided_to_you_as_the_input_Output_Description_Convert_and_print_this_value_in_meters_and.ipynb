{
  "nbformat": 4,
  "nbformat_minor": 0,
  "metadata": {
    "colab": {
      "provenance": [],
      "authorship_tag": "ABX9TyOEU5L+RtoJvxQUw4XvgWBZ",
      "include_colab_link": true
    },
    "kernelspec": {
      "name": "python3",
      "display_name": "Python 3"
    },
    "language_info": {
      "name": "python"
    }
  },
  "cells": [
    {
      "cell_type": "markdown",
      "metadata": {
        "id": "view-in-github",
        "colab_type": "text"
      },
      "source": [
        "<a href=\"https://colab.research.google.com/github/omkarmohite123/Absolute_Biginner_python/blob/main/You_are_given_a_number_A_in_Kilometers_Convert_this_into_B_Meters_and_C_Centi_Metres_Input_Description_A_number_%22A%22_representing_some_distance_in_kilometer_is_provided_to_you_as_the_input_Output_Description_Convert_and_print_this_value_in_meters_and.ipynb\" target=\"_parent\"><img src=\"https://colab.research.google.com/assets/colab-badge.svg\" alt=\"Open In Colab\"/></a>"
      ]
    },
    {
      "cell_type": "code",
      "source": [
        "A=int(input())\n",
        "B=A*1000\n",
        "C=A*100000\n",
        "print(B)\n",
        "print(C)"
      ],
      "metadata": {
        "colab": {
          "base_uri": "https://localhost:8080/"
        },
        "id": "C7jU_xkJ4Eoc",
        "outputId": "f3181c8c-81a3-4699-ea11-644a0e59693f"
      },
      "execution_count": 34,
      "outputs": [
        {
          "output_type": "stream",
          "name": "stdout",
          "text": [
            "2\n",
            "2000\n",
            "200000\n"
          ]
        }
      ]
    }
  ]
}
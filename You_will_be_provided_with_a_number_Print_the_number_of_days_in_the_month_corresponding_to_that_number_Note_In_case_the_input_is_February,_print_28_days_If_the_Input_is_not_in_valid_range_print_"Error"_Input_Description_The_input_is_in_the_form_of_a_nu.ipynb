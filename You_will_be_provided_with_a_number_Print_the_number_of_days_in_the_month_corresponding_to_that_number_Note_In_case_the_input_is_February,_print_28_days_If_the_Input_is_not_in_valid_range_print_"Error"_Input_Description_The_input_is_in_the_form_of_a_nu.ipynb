{
  "nbformat": 4,
  "nbformat_minor": 0,
  "metadata": {
    "colab": {
      "provenance": [],
      "authorship_tag": "ABX9TyNO7poFvFWmmYeBZP4uHeQ4",
      "include_colab_link": true
    },
    "kernelspec": {
      "name": "python3",
      "display_name": "Python 3"
    },
    "language_info": {
      "name": "python"
    }
  },
  "cells": [
    {
      "cell_type": "markdown",
      "metadata": {
        "id": "view-in-github",
        "colab_type": "text"
      },
      "source": [
        "<a href=\"https://colab.research.google.com/github/omkarmohite123/Absolute_Biginner_python/blob/main/You_will_be_provided_with_a_number_Print_the_number_of_days_in_the_month_corresponding_to_that_number_Note_In_case_the_input_is_February%2C_print_28_days_If_the_Input_is_not_in_valid_range_print_%22Error%22_Input_Description_The_input_is_in_the_form_of_a_nu.ipynb\" target=\"_parent\"><img src=\"https://colab.research.google.com/assets/colab-badge.svg\" alt=\"Open In Colab\"/></a>"
      ]
    },
    {
      "cell_type": "code",
      "source": [
        "a=int(input())\n",
        "b=[1,3,5,7,8,10,12]\n",
        "c=[4,6,9,11]\n",
        "d=2\n",
        "if a in b:\n",
        "    print(31)\n",
        "elif a in c:\n",
        "    print(30)\n",
        "elif a==2:\n",
        "    print(28)\n",
        "else:\n",
        "   print(\"Error\")\n",
        "  "
      ],
      "metadata": {
        "id": "n4KRBLZk7Nkh",
        "outputId": "2f3d0215-23da-4960-ceca-3374d7a64837",
        "colab": {
          "base_uri": "https://localhost:8080/"
        }
      },
      "execution_count": 45,
      "outputs": [
        {
          "output_type": "stream",
          "name": "stdout",
          "text": [
            "8\n",
            "31\n"
          ]
        }
      ]
    }
  ]
}
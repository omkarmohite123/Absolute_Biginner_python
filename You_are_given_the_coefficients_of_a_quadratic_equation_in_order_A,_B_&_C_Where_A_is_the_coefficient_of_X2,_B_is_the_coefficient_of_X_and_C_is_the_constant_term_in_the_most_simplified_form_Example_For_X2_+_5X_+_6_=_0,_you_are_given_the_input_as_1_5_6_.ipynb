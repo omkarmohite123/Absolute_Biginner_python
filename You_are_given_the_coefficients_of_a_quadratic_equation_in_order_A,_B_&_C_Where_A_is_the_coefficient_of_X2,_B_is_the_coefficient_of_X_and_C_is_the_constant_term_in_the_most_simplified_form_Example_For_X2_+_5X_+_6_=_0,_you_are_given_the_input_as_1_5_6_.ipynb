{
  "nbformat": 4,
  "nbformat_minor": 0,
  "metadata": {
    "colab": {
      "provenance": [],
      "authorship_tag": "ABX9TyN3xnnGEv+rijTgVSiziYO6",
      "include_colab_link": true
    },
    "kernelspec": {
      "name": "python3",
      "display_name": "Python 3"
    },
    "language_info": {
      "name": "python"
    }
  },
  "cells": [
    {
      "cell_type": "markdown",
      "metadata": {
        "id": "view-in-github",
        "colab_type": "text"
      },
      "source": [
        "<a href=\"https://colab.research.google.com/github/omkarmohite123/Absolute_Biginner_python/blob/main/You_are_given_the_coefficients_of_a_quadratic_equation_in_order_A%2C_B_%26_C_Where_A_is_the_coefficient_of_X2%2C_B_is_the_coefficient_of_X_and_C_is_the_constant_term_in_the_most_simplified_form_Example_For_X2_%2B_5X_%2B_6_%3D_0%2C_you_are_given_the_input_as_1_5_6_.ipynb\" target=\"_parent\"><img src=\"https://colab.research.google.com/assets/colab-badge.svg\" alt=\"Open In Colab\"/></a>"
      ]
    },
    {
      "cell_type": "code",
      "source": [
        "a,b,c=map(int,input().split())\n",
        "d=((b**2)-(4*a*c))**0.5\n",
        "m=(d-b)/(2*a)\n",
        "n=-(d+b)/(2*a)\n",
        "print(f'{m:.2f}')\n",
        "print(f'{n:.2f}')"
      ],
      "metadata": {
        "colab": {
          "base_uri": "https://localhost:8080/"
        },
        "id": "uzdpEXX66vFI",
        "outputId": "a33f6985-37e6-4a87-f7b7-b786dd7b2cf4"
      },
      "execution_count": 43,
      "outputs": [
        {
          "output_type": "stream",
          "name": "stdout",
          "text": [
            "1 5 6\n",
            "-2.00\n",
            "-3.00\n"
          ]
        }
      ]
    }
  ]
}
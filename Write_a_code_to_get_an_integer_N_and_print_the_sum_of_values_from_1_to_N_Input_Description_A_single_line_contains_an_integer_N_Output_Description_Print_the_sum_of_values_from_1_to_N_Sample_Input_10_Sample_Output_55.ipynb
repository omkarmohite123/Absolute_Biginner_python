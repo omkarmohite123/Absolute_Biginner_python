{
  "nbformat": 4,
  "nbformat_minor": 0,
  "metadata": {
    "colab": {
      "provenance": [],
      "authorship_tag": "ABX9TyODwGS1FSPT8m9dNR8UU7A7",
      "include_colab_link": true
    },
    "kernelspec": {
      "name": "python3",
      "display_name": "Python 3"
    },
    "language_info": {
      "name": "python"
    }
  },
  "cells": [
    {
      "cell_type": "markdown",
      "metadata": {
        "id": "view-in-github",
        "colab_type": "text"
      },
      "source": [
        "<a href=\"https://colab.research.google.com/github/omkarmohite123/Absolute_Biginner_python/blob/main/Write_a_code_to_get_an_integer_N_and_print_the_sum_of_values_from_1_to_N_Input_Description_A_single_line_contains_an_integer_N_Output_Description_Print_the_sum_of_values_from_1_to_N_Sample_Input_10_Sample_Output_55.ipynb\" target=\"_parent\"><img src=\"https://colab.research.google.com/assets/colab-badge.svg\" alt=\"Open In Colab\"/></a>"
      ]
    },
    {
      "cell_type": "code",
      "source": [
        "N=int(input())\n",
        "a=0\n",
        "for i in range(1,N+1):\n",
        "    a=a+i\n",
        "print(a)"
      ],
      "metadata": {
        "colab": {
          "base_uri": "https://localhost:8080/"
        },
        "id": "C-wbcLZg_CVs",
        "outputId": "4fa957e9-b205-4a69-a607-2b2da692d7ec"
      },
      "execution_count": 62,
      "outputs": [
        {
          "output_type": "stream",
          "name": "stdout",
          "text": [
            "10\n",
            "55\n"
          ]
        }
      ]
    }
  ]
}
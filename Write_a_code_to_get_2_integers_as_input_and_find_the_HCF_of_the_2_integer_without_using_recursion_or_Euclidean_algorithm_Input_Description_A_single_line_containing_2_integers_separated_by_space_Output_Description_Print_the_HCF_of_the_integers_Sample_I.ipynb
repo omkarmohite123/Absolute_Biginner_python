{
  "nbformat": 4,
  "nbformat_minor": 0,
  "metadata": {
    "colab": {
      "provenance": [],
      "authorship_tag": "ABX9TyNB9eN3DewrHLWb5hVGL0Pm",
      "include_colab_link": true
    },
    "kernelspec": {
      "name": "python3",
      "display_name": "Python 3"
    },
    "language_info": {
      "name": "python"
    }
  },
  "cells": [
    {
      "cell_type": "markdown",
      "metadata": {
        "id": "view-in-github",
        "colab_type": "text"
      },
      "source": [
        "<a href=\"https://colab.research.google.com/github/omkarmohite123/Absolute_Biginner_python/blob/main/Write_a_code_to_get_2_integers_as_input_and_find_the_HCF_of_the_2_integer_without_using_recursion_or_Euclidean_algorithm_Input_Description_A_single_line_containing_2_integers_separated_by_space_Output_Description_Print_the_HCF_of_the_integers_Sample_I.ipynb\" target=\"_parent\"><img src=\"https://colab.research.google.com/assets/colab-badge.svg\" alt=\"Open In Colab\"/></a>"
      ]
    },
    {
      "cell_type": "code",
      "source": [
        "A,B=map(int,input().split())\n",
        "hcf=1\n",
        "if A>B:\n",
        "    C=B\n",
        "else:\n",
        "    C=A\n",
        "for i in range(1,C+1):\n",
        "    if(A%i==0) and (B%i==0):\n",
        "        hcf=i\n",
        "print(hcf)"
      ],
      "metadata": {
        "colab": {
          "base_uri": "https://localhost:8080/"
        },
        "id": "kzXeQQIz_iJx",
        "outputId": "843b8d22-c052-488e-ad44-1f7dbca6da55"
      },
      "execution_count": 64,
      "outputs": [
        {
          "output_type": "stream",
          "name": "stdout",
          "text": [
            "2 3\n",
            "1\n"
          ]
        }
      ]
    }
  ]
}
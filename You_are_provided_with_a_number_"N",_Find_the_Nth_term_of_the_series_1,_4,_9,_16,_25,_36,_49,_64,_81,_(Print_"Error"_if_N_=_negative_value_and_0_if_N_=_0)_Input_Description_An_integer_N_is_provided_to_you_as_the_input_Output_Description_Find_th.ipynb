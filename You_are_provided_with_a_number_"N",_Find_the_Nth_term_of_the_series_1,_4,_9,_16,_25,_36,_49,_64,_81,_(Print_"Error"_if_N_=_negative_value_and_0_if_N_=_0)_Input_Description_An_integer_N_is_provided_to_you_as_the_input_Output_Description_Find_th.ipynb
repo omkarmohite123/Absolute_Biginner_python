{
  "nbformat": 4,
  "nbformat_minor": 0,
  "metadata": {
    "colab": {
      "provenance": [],
      "authorship_tag": "ABX9TyM7xpAjll0I2q1359u16xUJ",
      "include_colab_link": true
    },
    "kernelspec": {
      "name": "python3",
      "display_name": "Python 3"
    },
    "language_info": {
      "name": "python"
    }
  },
  "cells": [
    {
      "cell_type": "markdown",
      "metadata": {
        "id": "view-in-github",
        "colab_type": "text"
      },
      "source": [
        "<a href=\"https://colab.research.google.com/github/omkarmohite123/Absolute_Biginner_python/blob/main/You_are_provided_with_a_number_%22N%22%2C_Find_the_Nth_term_of_the_series_1%2C_4%2C_9%2C_16%2C_25%2C_36%2C_49%2C_64%2C_81%2C_(Print_%22Error%22_if_N_%3D_negative_value_and_0_if_N_%3D_0)_Input_Description_An_integer_N_is_provided_to_you_as_the_input_Output_Description_Find_th.ipynb\" target=\"_parent\"><img src=\"https://colab.research.google.com/assets/colab-badge.svg\" alt=\"Open In Colab\"/></a>"
      ]
    },
    {
      "cell_type": "code",
      "source": [
        "N=int(input())\n",
        "a=N**2\n",
        "print(a)"
      ],
      "metadata": {
        "colab": {
          "base_uri": "https://localhost:8080/"
        },
        "id": "2liRTpUC80YG",
        "outputId": "dfbea67d-2adf-4871-db23-5e054e3be9bf"
      },
      "execution_count": 52,
      "outputs": [
        {
          "output_type": "stream",
          "name": "stdout",
          "text": [
            "18\n",
            "324\n"
          ]
        }
      ]
    }
  ]
}
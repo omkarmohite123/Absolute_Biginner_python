{
  "nbformat": 4,
  "nbformat_minor": 0,
  "metadata": {
    "colab": {
      "provenance": [],
      "authorship_tag": "ABX9TyNvV+jdWS4fNotw2Uu6hRDL",
      "include_colab_link": true
    },
    "kernelspec": {
      "name": "python3",
      "display_name": "Python 3"
    },
    "language_info": {
      "name": "python"
    }
  },
  "cells": [
    {
      "cell_type": "markdown",
      "metadata": {
        "id": "view-in-github",
        "colab_type": "text"
      },
      "source": [
        "<a href=\"https://colab.research.google.com/github/omkarmohite123/Absolute_Biginner_python/blob/main/Let_%22A%22_be_a_string_Remove_all_the_whitespaces_and_find_it's_length_Input_Description_A_string_is_provide_as_an_input_Output_Description_Remove_all_the_whitespaces_and_then_print_the_length_of_the_remaining_string_Sample_Input_Lorem_Ipsum_Sample_Ou.ipynb\" target=\"_parent\"><img src=\"https://colab.research.google.com/assets/colab-badge.svg\" alt=\"Open In Colab\"/></a>"
      ]
    },
    {
      "cell_type": "code",
      "source": [
        "a=int(input())\n",
        "b=[1,3,5,7,8,10,12]\n",
        "c=[4,6,9,11]\n",
        "d=2\n",
        "if a in b:\n",
        "    print(31)\n",
        "elif a in c:\n",
        "    print(30)\n",
        "elif a==2:\n",
        "    print(28)\n",
        "else:\n",
        "   print(\"Error\")\n",
        "  "
      ],
      "metadata": {
        "colab": {
          "base_uri": "https://localhost:8080/"
        },
        "id": "n4KRBLZk7Nkh",
        "outputId": "2f3d0215-23da-4960-ceca-3374d7a64837"
      },
      "execution_count": null,
      "outputs": [
        {
          "output_type": "stream",
          "name": "stdout",
          "text": [
            "8\n",
            "31\n"
          ]
        }
      ]
    },
    {
      "cell_type": "code",
      "source": [
        "A=input()\n",
        "a1=A.split()\n",
        "new=''.join(a1)\n",
        "\n",
        "print(len(new))\n"
      ],
      "metadata": {
        "id": "I2YUw8Dd7c6i",
        "outputId": "2fd591cf-0a81-4ccd-f5d3-b94413299d5c",
        "colab": {
          "base_uri": "https://localhost:8080/"
        }
      },
      "execution_count": null,
      "outputs": [
        {
          "output_type": "stream",
          "name": "stdout",
          "text": [
            "Lorem Ipsum\n",
            "10\n"
          ]
        }
      ]
    }
  ]
}